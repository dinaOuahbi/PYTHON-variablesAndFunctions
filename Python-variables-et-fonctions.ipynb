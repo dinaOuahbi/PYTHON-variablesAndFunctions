{
 "cells": [
  {
   "cell_type": "markdown",
   "id": "a19c0e90",
   "metadata": {},
   "source": [
    "                                        SOMMAI\n",
    "\n",
    "------------------------VARIABLES------------------------------------\n",
    "\n",
    "- Cree une variable\n",
    "- Afficher\n",
    "- Changer sa valeur\n",
    "\n",
    "- Re affectation (incrementation)\n",
    "- Cree une 2eme var\n",
    "\n",
    "- Operations arithmetiques\n",
    "- Operations comparatives\n",
    "\n",
    "- Les commentaires\n",
    "\n",
    "- Operations de logiques \n",
    "\n",
    "- Les types \"string\"\n",
    "\n",
    "- Cree 2 var dans la meme ligne\n",
    "\n",
    "-----------------------FONCTION----------------------------------\n",
    "- De type mathematique : lambda\n",
    "\n",
    "- De type fonctionnalite : def \n",
    "    - definir la fonction \n",
    "    - appeler la fonction\n",
    "    - notion variable interne\n",
    "    - notion de keys words\n",
    "    - notion de return "
   ]
  },
  {
   "cell_type": "markdown",
   "id": "33d41f3f",
   "metadata": {},
   "source": [
    "# VARIABLES"
   ]
  },
  {
   "cell_type": "code",
   "execution_count": 1,
   "id": "e3beb862",
   "metadata": {},
   "outputs": [],
   "source": [
    "#cree\n",
    "x = 2"
   ]
  },
  {
   "cell_type": "code",
   "execution_count": 2,
   "id": "27032aba",
   "metadata": {},
   "outputs": [
    {
     "name": "stdout",
     "output_type": "stream",
     "text": [
      "2\n"
     ]
    }
   ],
   "source": [
    "#afficher\n",
    "print(x)"
   ]
  },
  {
   "cell_type": "code",
   "execution_count": 4,
   "id": "56bb35ed",
   "metadata": {},
   "outputs": [
    {
     "name": "stdout",
     "output_type": "stream",
     "text": [
      "2.4\n"
     ]
    }
   ],
   "source": [
    "#changer\n",
    "x= 2.4\n",
    "print(x)"
   ]
  },
  {
   "cell_type": "code",
   "execution_count": 5,
   "id": "0deeff22",
   "metadata": {},
   "outputs": [
    {
     "name": "stdout",
     "output_type": "stream",
     "text": [
      "7.4\n"
     ]
    }
   ],
   "source": [
    "#incrementer\n",
    "x = x + 5\n",
    "print(x)"
   ]
  },
  {
   "cell_type": "code",
   "execution_count": 6,
   "id": "4a6ed8ce",
   "metadata": {},
   "outputs": [
    {
     "name": "stdout",
     "output_type": "stream",
     "text": [
      "8.4\n"
     ]
    }
   ],
   "source": [
    "x+=1\n",
    "#x-=1\n",
    "print(x)"
   ]
  },
  {
   "cell_type": "code",
   "execution_count": 7,
   "id": "62dfba89",
   "metadata": {},
   "outputs": [],
   "source": [
    "# 2eme variable\n",
    "y = 4.8"
   ]
  },
  {
   "cell_type": "markdown",
   "id": "0e702ef4",
   "metadata": {},
   "source": [
    "### OPERATIONS ARITHMETIQUES"
   ]
  },
  {
   "cell_type": "code",
   "execution_count": 11,
   "id": "ef5b6290",
   "metadata": {},
   "outputs": [
    {
     "name": "stdout",
     "output_type": "stream",
     "text": [
      "13.2\n",
      "3.6000000000000005\n",
      "produit ==>  40.32\n",
      "puissance ==>  27323.766988062496\n",
      "1.7500000000000002\n",
      "modulo ==> 3.6000000000000005\n"
     ]
    }
   ],
   "source": [
    "print(x+y)\n",
    "print(x-y)\n",
    "print('produit ==> ',x*y)\n",
    "print('puissance ==> ',x**y)\n",
    "print(x/y)\n",
    "print('modulo ==>',x%y)"
   ]
  },
  {
   "cell_type": "markdown",
   "id": "852e3b7e",
   "metadata": {},
   "source": [
    "### OPERATIONS COMPARATIVES"
   ]
  },
  {
   "cell_type": "code",
   "execution_count": 12,
   "id": "d925e9fa",
   "metadata": {},
   "outputs": [
    {
     "name": "stdout",
     "output_type": "stream",
     "text": [
      "False\n",
      "True\n",
      "True\n",
      "False\n",
      "False\n",
      "True\n"
     ]
    }
   ],
   "source": [
    "print(x==y)\n",
    "print(x!=y)\n",
    "print(x>y)\n",
    "print(x<y)\n",
    "print(x<=y)\n",
    "print(x>=y)"
   ]
  },
  {
   "cell_type": "markdown",
   "id": "31fe0445",
   "metadata": {},
   "source": [
    "### COMMMENTAIRES et HELP"
   ]
  },
  {
   "cell_type": "code",
   "execution_count": 13,
   "id": "0d469f04",
   "metadata": {},
   "outputs": [
    {
     "data": {
      "text/plain": [
       "'ceci\\nest un commentaire \\nen plusieurs lignes'"
      ]
     },
     "execution_count": 13,
     "metadata": {},
     "output_type": "execute_result"
    }
   ],
   "source": [
    "# Ceci est un commentaire en une seule ligne\n",
    "\n",
    "\n",
    "\"\"\"ceci\n",
    "est un commentaire \n",
    "en plusieurs lignes\"\"\""
   ]
  },
  {
   "cell_type": "code",
   "execution_count": 14,
   "id": "50309f87",
   "metadata": {},
   "outputs": [
    {
     "name": "stdout",
     "output_type": "stream",
     "text": [
      "Help on built-in function print in module builtins:\n",
      "\n",
      "print(...)\n",
      "    print(value, ..., sep=' ', end='\\n', file=sys.stdout, flush=False)\n",
      "    \n",
      "    Prints the values to a stream, or to sys.stdout by default.\n",
      "    Optional keyword arguments:\n",
      "    file:  a file-like object (stream); defaults to the current sys.stdout.\n",
      "    sep:   string inserted between values, default a space.\n",
      "    end:   string appended after the last value, default a newline.\n",
      "    flush: whether to forcibly flush the stream.\n",
      "\n"
     ]
    }
   ],
   "source": [
    "# manuel de la fonction print\n",
    "help(print)"
   ]
  },
  {
   "cell_type": "code",
   "execution_count": 15,
   "id": "9b1beb00",
   "metadata": {},
   "outputs": [],
   "source": [
    "print?"
   ]
  },
  {
   "cell_type": "markdown",
   "id": "0743d05e",
   "metadata": {},
   "source": [
    "### OPERATIONS DE LOGIQUES"
   ]
  },
  {
   "cell_type": "code",
   "execution_count": 20,
   "id": "6ceae0c0",
   "metadata": {},
   "outputs": [
    {
     "name": "stdout",
     "output_type": "stream",
     "text": [
      "True\n",
      "False\n"
     ]
    }
   ],
   "source": [
    "print(False | True) #OR\n",
    "print(False & True) #AND"
   ]
  },
  {
   "cell_type": "markdown",
   "id": "40e07c33",
   "metadata": {},
   "source": [
    "### TYPE STRING"
   ]
  },
  {
   "cell_type": "code",
   "execution_count": 21,
   "id": "c7a43642",
   "metadata": {},
   "outputs": [
    {
     "name": "stdout",
     "output_type": "stream",
     "text": [
      "Dina\n"
     ]
    }
   ],
   "source": [
    "name = \"Dina\"\n",
    "print(name)"
   ]
  },
  {
   "cell_type": "code",
   "execution_count": 22,
   "id": "9c228f3e",
   "metadata": {},
   "outputs": [
    {
     "name": "stdout",
     "output_type": "stream",
     "text": [
      "D\n",
      "i\n",
      "n\n",
      "a\n"
     ]
    }
   ],
   "source": [
    "for i in name:\n",
    "    print(i)"
   ]
  },
  {
   "cell_type": "code",
   "execution_count": 24,
   "id": "5dc5b92a",
   "metadata": {},
   "outputs": [
    {
     "name": "stdout",
     "output_type": "stream",
     "text": [
      "i\n"
     ]
    }
   ],
   "source": [
    "print(name[1])"
   ]
  },
  {
   "cell_type": "code",
   "execution_count": 25,
   "id": "4b90e675",
   "metadata": {},
   "outputs": [
    {
     "name": "stdout",
     "output_type": "stream",
     "text": [
      "Di\n"
     ]
    }
   ],
   "source": [
    "print(name[0:2])"
   ]
  },
  {
   "cell_type": "code",
   "execution_count": 32,
   "id": "e0297caa",
   "metadata": {},
   "outputs": [
    {
     "name": "stdout",
     "output_type": "stream",
     "text": [
      "a\n"
     ]
    }
   ],
   "source": [
    "print(name[-1])"
   ]
  },
  {
   "cell_type": "code",
   "execution_count": 41,
   "id": "b1893f10",
   "metadata": {},
   "outputs": [
    {
     "name": "stdout",
     "output_type": "stream",
     "text": [
      "HELLO, WORD!\n",
      "hello, word!\n",
      "Hello, word!\n",
      "Hjllo, word!\n",
      "['Hello', ' word!']\n"
     ]
    }
   ],
   "source": [
    "#quelques methodes sur les strings\n",
    "mot = \"Hello, word!\"\n",
    "print(mot.upper())\n",
    "print(mot.lower())\n",
    "print(mot.strip())\n",
    "print(mot.replace(\"e\",\"j\"))\n",
    "print(mot.split(','))"
   ]
  },
  {
   "cell_type": "code",
   "execution_count": 45,
   "id": "31bc74ae",
   "metadata": {},
   "outputs": [],
   "source": [
    "# d'autres methodes ici : \n",
    "# https://www.w3schools.com/python/python_strings_methods.asp "
   ]
  },
  {
   "cell_type": "code",
   "execution_count": 43,
   "id": "12a03143",
   "metadata": {},
   "outputs": [
    {
     "name": "stdout",
     "output_type": "stream",
     "text": [
      "my name is Dina\n",
      "my name is Dina\n"
     ]
    }
   ],
   "source": [
    "#concatener deux string\n",
    "print(\"my name is \"+name)\n",
    "\n",
    "#format\n",
    "print(\"my name is {}\".format(name))"
   ]
  },
  {
   "cell_type": "code",
   "execution_count": 46,
   "id": "029c5810",
   "metadata": {},
   "outputs": [
    {
     "name": "stdout",
     "output_type": "stream",
     "text": [
      "2\n",
      "4\n"
     ]
    }
   ],
   "source": [
    "# cree deux variable sur la meme ligne\n",
    "a, b = 2, 4\n",
    "print(a)\n",
    "print(b)"
   ]
  },
  {
   "cell_type": "markdown",
   "id": "cfc3d53d",
   "metadata": {},
   "source": [
    "## FONCTIONS"
   ]
  },
  {
   "cell_type": "code",
   "execution_count": 47,
   "id": "d0bd3573",
   "metadata": {},
   "outputs": [
    {
     "name": "stdout",
     "output_type": "stream",
     "text": [
      "16\n"
     ]
    }
   ],
   "source": [
    "# En math  lambda arg : expression \n",
    "f = lambda x : x**2\n",
    "\n",
    "print(f(4))"
   ]
  },
  {
   "cell_type": "code",
   "execution_count": 48,
   "id": "fc219487",
   "metadata": {},
   "outputs": [
    {
     "name": "stdout",
     "output_type": "stream",
     "text": [
      "26\n"
     ]
    }
   ],
   "source": [
    "f = lambda x,y : x**2 + 4*y + 10\n",
    "\n",
    "print(f(2,3))"
   ]
  },
  {
   "cell_type": "code",
   "execution_count": 50,
   "id": "57659b0e",
   "metadata": {},
   "outputs": [
    {
     "data": {
      "text/plain": [
       "19.591836734693878"
      ]
     },
     "execution_count": 50,
     "metadata": {},
     "output_type": "execute_result"
    }
   ],
   "source": [
    "# de type fonctionnalite\n",
    "\n",
    "#definir\n",
    "def imc (poid, taille):\n",
    "    return poid/taille**2\n",
    "\n",
    "#appeler \n",
    "imc(60, 1.75)"
   ]
  },
  {
   "cell_type": "code",
   "execution_count": null,
   "id": "fd30b7f6",
   "metadata": {},
   "outputs": [],
   "source": [
    "print(poid) #name 'poid' is not defined\n",
    "\n",
    "#car poid est une variaable interne"
   ]
  }
 ],
 "metadata": {
  "kernelspec": {
   "display_name": "Python 3",
   "language": "python",
   "name": "python3"
  },
  "language_info": {
   "codemirror_mode": {
    "name": "ipython",
    "version": 3
   },
   "file_extension": ".py",
   "mimetype": "text/x-python",
   "name": "python",
   "nbconvert_exporter": "python",
   "pygments_lexer": "ipython3",
   "version": "3.8.8"
  }
 },
 "nbformat": 4,
 "nbformat_minor": 5
}
